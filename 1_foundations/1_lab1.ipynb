{
 "cells": [
  {
   "cell_type": "markdown",
   "metadata": {},
   "source": [
    "# Welcome to the start of your adventure in Agentic AI"
   ]
  },
  {
   "cell_type": "markdown",
   "metadata": {},
   "source": [
    "<table style=\"margin: 0; text-align: left; width:100%\">\n",
    "    <tr>\n",
    "        <td style=\"width: 150px; height: 150px; vertical-align: middle;\">\n",
    "            <img src=\"../assets/stop.png\" width=\"150\" height=\"150\" style=\"display: block;\" />\n",
    "        </td>\n",
    "        <td>\n",
    "            <h2 style=\"color:#ff7800;\">Are you ready for action??</h2>\n",
    "            <span style=\"color:#ff7800;\">Have you completed all the setup steps in the <a href=\"../setup/\">setup</a> folder?<br/>\n",
    "            Have you checked out the guides in the <a href=\"../guides/01_intro.ipynb\">guides</a> folder?<br/>\n",
    "            Well in that case, you're ready!!\n",
    "            </span>\n",
    "        </td>\n",
    "    </tr>\n",
    "</table>"
   ]
  },
  {
   "cell_type": "markdown",
   "metadata": {},
   "source": [
    "<table style=\"margin: 0; text-align: left; width:100%\">\n",
    "    <tr>\n",
    "        <td style=\"width: 150px; height: 150px; vertical-align: middle;\">\n",
    "            <img src=\"../assets/tools.png\" width=\"150\" height=\"150\" style=\"display: block;\" />\n",
    "        </td>\n",
    "        <td>\n",
    "            <h2 style=\"color:#00bfff;\">Treat these labs as a resource</h2>\n",
    "            <span style=\"color:#00bfff;\">I push updates to the code regularly. When people ask questions or have problems, I incorporate it in the code, adding more examples or improved commentary. As a result, you'll notice that the code below isn't identical to the videos. Everything from the videos is here; but in addition, I've added more steps and better explanations. Consider this like an interactive book that accompanies the lectures.\n",
    "            </span>\n",
    "        </td>\n",
    "    </tr>\n",
    "</table>"
   ]
  },
  {
   "cell_type": "markdown",
   "metadata": {},
   "source": [
    "### And please do remember to contact me if I can help\n",
    "\n",
    "And I love to connect: https://www.linkedin.com/in/eddonner/\n",
    "\n",
    "\n",
    "### New to Notebooks like this one? Head over to the guides folder!\n",
    "\n",
    "Otherwise:\n",
    "1. Click where it says \"Select Kernel\" near the top right, and select the option called `.venv (Python 3.12.9)` or similar, which should be the first choice or the most prominent choice.\n",
    "2. Click in each \"cell\" below, starting with the cell immediately below this text, and press Shift+Enter to run\n",
    "3. Enjoy!"
   ]
  },
  {
   "cell_type": "code",
   "execution_count": 1,
   "metadata": {},
   "outputs": [],
   "source": [
    "# First let's do an import\n",
    "from dotenv import load_dotenv\n"
   ]
  },
  {
   "cell_type": "code",
   "execution_count": 2,
   "metadata": {},
   "outputs": [
    {
     "data": {
      "text/plain": [
       "True"
      ]
     },
     "execution_count": 2,
     "metadata": {},
     "output_type": "execute_result"
    }
   ],
   "source": [
    "# Next it's time to load the API keys into environment variables\n",
    "\n",
    "load_dotenv(override=True)"
   ]
  },
  {
   "cell_type": "code",
   "execution_count": 3,
   "metadata": {},
   "outputs": [
    {
     "name": "stdout",
     "output_type": "stream",
     "text": [
      "OpenAI API Key exists and begins sk-proj-\n"
     ]
    }
   ],
   "source": [
    "# Check the keys\n",
    "\n",
    "import os\n",
    "openai_api_key = os.getenv('OPENAI_API_KEY')\n",
    "\n",
    "if openai_api_key:\n",
    "    print(f\"OpenAI API Key exists and begins {openai_api_key[:8]}\")\n",
    "else:\n",
    "    print(\"OpenAI API Key not set - please head to the troubleshooting guide in the guides folder\")\n",
    "    \n"
   ]
  },
  {
   "cell_type": "code",
   "execution_count": 4,
   "metadata": {},
   "outputs": [],
   "source": [
    "# And now - the all important import statement\n",
    "# If you get an import error - head over to troubleshooting guide\n",
    "\n",
    "from openai import OpenAI"
   ]
  },
  {
   "cell_type": "code",
   "execution_count": 5,
   "metadata": {},
   "outputs": [],
   "source": [
    "# And now we'll create an instance of the OpenAI class\n",
    "# If you're not sure what it means to create an instance of a class - head over to the guides folder!\n",
    "# If you get a NameError - head over to the guides folder to learn about NameErrors\n",
    "\n",
    "openai = OpenAI()"
   ]
  },
  {
   "cell_type": "code",
   "execution_count": 6,
   "metadata": {},
   "outputs": [],
   "source": [
    "# Create a list of messages in the familiar OpenAI format\n",
    "\n",
    "messages = [{\"role\": \"user\", \"content\": \"What is 2+2?\"}]"
   ]
  },
  {
   "cell_type": "code",
   "execution_count": 7,
   "metadata": {},
   "outputs": [
    {
     "name": "stdout",
     "output_type": "stream",
     "text": [
      "2 + 2 equals 4.\n"
     ]
    }
   ],
   "source": [
    "# And now call it! Any problems, head to the troubleshooting guide\n",
    "\n",
    "response = openai.chat.completions.create(\n",
    "    model=\"gpt-4o-mini\",\n",
    "    messages=messages\n",
    ")\n",
    "\n",
    "print(response.choices[0].message.content)\n"
   ]
  },
  {
   "cell_type": "code",
   "execution_count": 8,
   "metadata": {},
   "outputs": [],
   "source": [
    "# And now - let's ask for a question:\n",
    "\n",
    "question = \"Please propose a hard, challenging question to assess someone's IQ. Respond only with the question.\"\n",
    "messages = [{\"role\": \"user\", \"content\": question}]\n"
   ]
  },
  {
   "cell_type": "code",
   "execution_count": 9,
   "metadata": {},
   "outputs": [
    {
     "name": "stdout",
     "output_type": "stream",
     "text": [
      "A man is looking at a picture of someone. His friend asks, \"Who is it you are looking at?\" The man replies, \"Brothers and sisters, I have none. But that man's father is my father's son.\" Who is the man in the picture?\n"
     ]
    }
   ],
   "source": [
    "# ask it\n",
    "response = openai.chat.completions.create(\n",
    "    model=\"gpt-4o-mini\",\n",
    "    messages=messages\n",
    ")\n",
    "\n",
    "question = response.choices[0].message.content\n",
    "\n",
    "print(question)\n"
   ]
  },
  {
   "cell_type": "code",
   "execution_count": 10,
   "metadata": {},
   "outputs": [],
   "source": [
    "# form a new messages list\n",
    "messages = [{\"role\": \"user\", \"content\": question}]\n"
   ]
  },
  {
   "cell_type": "code",
   "execution_count": 11,
   "metadata": {},
   "outputs": [
    {
     "name": "stdout",
     "output_type": "stream",
     "text": [
      "The man in the picture is the man's son. \n",
      "\n",
      "Here's the reasoning:\n",
      "\n",
      "1. The man says, \"Brothers and sisters, I have none.\" This means he is the only child.\n",
      "2. He then says, \"that man's father is my father's son.\" Since he has no siblings, \"my father's son\" refers to himself.\n",
      "3. Therefore, \"that man's father\" must be the man himself, which means \"that man\" is his son.\n"
     ]
    }
   ],
   "source": [
    "# Ask it again\n",
    "\n",
    "response = openai.chat.completions.create(\n",
    "    model=\"gpt-4o-mini\",\n",
    "    messages=messages\n",
    ")\n",
    "\n",
    "answer = response.choices[0].message.content\n",
    "print(answer)\n"
   ]
  },
  {
   "cell_type": "code",
   "execution_count": 12,
   "metadata": {},
   "outputs": [
    {
     "data": {
      "text/markdown": [
       "The man in the picture is the man's son. \n",
       "\n",
       "Here's the reasoning:\n",
       "\n",
       "1. The man says, \"Brothers and sisters, I have none.\" This means he is the only child.\n",
       "2. He then says, \"that man's father is my father's son.\" Since he has no siblings, \"my father's son\" refers to himself.\n",
       "3. Therefore, \"that man's father\" must be the man himself, which means \"that man\" is his son."
      ],
      "text/plain": [
       "<IPython.core.display.Markdown object>"
      ]
     },
     "metadata": {},
     "output_type": "display_data"
    }
   ],
   "source": [
    "from IPython.display import Markdown, display\n",
    "\n",
    "display(Markdown(answer))\n",
    "\n"
   ]
  },
  {
   "cell_type": "markdown",
   "metadata": {},
   "source": [
    "# Congratulations!\n",
    "\n",
    "That was a small, simple step in the direction of Agentic AI, with your new environment!\n",
    "\n",
    "Next time things get more interesting..."
   ]
  },
  {
   "cell_type": "markdown",
   "metadata": {},
   "source": [
    "<table style=\"margin: 0; text-align: left; width:100%\">\n",
    "    <tr>\n",
    "        <td style=\"width: 150px; height: 150px; vertical-align: middle;\">\n",
    "            <img src=\"../assets/exercise.png\" width=\"150\" height=\"150\" style=\"display: block;\" />\n",
    "        </td>\n",
    "        <td>\n",
    "            <h2 style=\"color:#ff7800;\">Exercise</h2>\n",
    "            <span style=\"color:#ff7800;\">Now try this commercial application:<br/>\n",
    "            First ask the LLM to pick a business area that might be worth exploring for an Agentic AI opportunity.<br/>\n",
    "            Then ask the LLM to present a pain-point in that industry - something challenging that might be ripe for an Agentic solution.<br/>\n",
    "            Finally have 3 third LLM call propose the Agentic AI solution.\n",
    "            </span>\n",
    "        </td>\n",
    "    </tr>\n",
    "</table>"
   ]
  },
  {
   "cell_type": "code",
   "execution_count": 13,
   "metadata": {},
   "outputs": [],
   "source": [
    "# First create the messages:\n",
    "\n",
    "messages = [{\"role\": \"user\", \"content\": \"Something here\"}]\n",
    "\n",
    "# Then make the first call:\n",
    "\n",
    "response = openai.chat.completions.create(\n",
    "    model = \"gpt-4o-mini\",\n",
    "    messages = [{\"role\":\"user\", \"content\":\"Pick a business area in the marine industry that might be worth exploring for an agentic AI opportunity.\"}]\n",
    ")\n",
    "\n",
    "# Then read the business idea:\n",
    "\n",
    "business_idea = response.choices[0].message.content\n",
    "display(Markdown(business_idea))\n",
    "# And repeat!"
   ]
  },
  {
   "cell_type": "code",
   "execution_count": 17,
   "metadata": {},
   "outputs": [
    {
     "data": {
      "text/markdown": [
       "Here are several potential pain points associated with implementing sustainability initiatives in the maritime context, particularly using AI to optimize fuel consumption and emissions:\n",
       "\n",
       "1. **Data Integration**: Gathering and integrating data from various sources (e.g., vessel sensors, fuel consumption logs, maintenance records) can be challenging. Inconsistent data formats and legacy systems may hinder effective analytics.\n",
       "\n",
       "2. **High Initial Investment**: The cost of implementing AI technologies and advanced analytics can be significant. Companies may be hesitant to invest in these technologies without guaranteed ROI.\n",
       "\n",
       "3. **Complexity of Regulatory Standards**: Navigating a multitude of local, national, and international regulations regarding emissions and fuel usage can be daunting. Compliance requires continuous monitoring and adjustments, complicating operational processes.\n",
       "\n",
       "4. **Resistance to Change**: Crew members and management may resist the shift towards AI-driven operations due to fear of job loss, skepticism about the reliability of AI, or reluctance to adopt new technologies.\n",
       "\n",
       "5. **Skill Gap**: There may be a shortage of skilled personnel capable of operating and maintaining AI systems, leading to difficulties in implementation and ongoing management.\n",
       "\n",
       "6. **Real-Time Monitoring Challenges**: Ensuring real-time monitoring and data analysis during a vessel's journey can be difficult, especially in remote maritime areas with limited connectivity.\n",
       "\n",
       "7. **Maintenance of AI Systems**: AI models require continuous updates and maintenance to remain effective with changing operational conditions and new data. Neglecting this could lead to suboptimal performance.\n",
       "\n",
       "8. **Fuel Variability**: Different types of fuel have varying combustion properties, which can affect optimization algorithms. Developing a one-size-fits-all approach may not yield the desired outcomes in fuel consumption and emissions.\n",
       "\n",
       "9. **Unpredictable Environmental Factors**: Weather, sea conditions, and other external factors can impact fuel consumption and emissions, making it challenging to consistently optimize performance.\n",
       "\n",
       "10. **Stakeholder Buy-In**: Gaining buy-in from all stakeholders (e.g., shipowners, operators, investors) may require extensive justification and proof of the effectiveness of AI solutions.\n",
       "\n",
       "11. **Data Privacy and Security**: Concerns over data privacy and cybersecurity linked to the collection and transmission of operational data can pose obstacles to adopting AI solutions.\n",
       "\n",
       "12. **Impact Measurement**: Demonstrating the tangible impact of AI-driven initiatives on fuel consumption and emissions can be difficult, complicating efforts to justify investments and improvements.\n",
       "\n",
       "These pain points highlight the complexities and challenges associated with integrating AI into sustainability initiatives within the maritime industry. Addressing these issues will be essential for successful implementation."
      ],
      "text/plain": [
       "<IPython.core.display.Markdown object>"
      ]
     },
     "metadata": {},
     "output_type": "display_data"
    }
   ],
   "source": [
    "sustainability_idea = \"Sustainability Initiatives: With increasing pressure for sustainable practices, AI can help optimize fuel consumption and emissions, assisting companies in meeting regulatory standards and environmental goals.\"\n",
    "\n",
    "response_2 = openai.chat.completions.create(\n",
    "    model = 'gpt-4o-mini',\n",
    "    messages=[{'role':'user', 'content':'Given the following business idea in the maritime context, list out a few pain-points.\\n' + sustainability_idea}]\n",
    ")\n",
    "\n",
    "pain_point = response_2.choices[0].message.content\n",
    "display(Markdown(pain_point))"
   ]
  },
  {
   "cell_type": "code",
   "execution_count": 19,
   "metadata": {},
   "outputs": [
    {
     "data": {
      "text/markdown": [
       "### Business Idea: Integrated Maritime Sustainability Optimization Platform (IMSOP)\n",
       "\n",
       "**Overview:**\n",
       "The Integrated Maritime Sustainability Optimization Platform (IMSOP) is a comprehensive Agentic AI solution designed to enable maritime companies to seamlessly adopt sustainability initiatives while optimizing fuel consumption and emissions. IMSOP addresses the outlined pain points through a holistic approach using modular AI tools, easy integration capabilities, and real-time analytics.\n",
       "\n",
       "**Key Features:**\n",
       "\n",
       "1. **Data Integration Hub:**\n",
       "   - **Universal Data Connectors**: Develop connectors that automatically integrate and normalize data from various sources such as vessel sensors, fuel logs, and maintenance records, irrespective of format. This simplifies the data collection process.\n",
       "   - **Cloud-based Data Warehouse**: Implement a secure cloud-based data storage solution where all collected data is stored and can be accessed for analysis anytime.\n",
       "\n",
       "2. **AI-driven Investment ROI Analytics:**\n",
       "   - **Pre-Implementation ROI Simulator**: Use predictive analytics to forecast potential savings and operational improvements based on various investment scenarios, providing stakeholders with visual and data-driven justifications for the initial costs related to AI implementations.\n",
       "\n",
       "3. **Regulatory Compliance Module:**\n",
       "   - **Compliance Monitoring System**: A dedicated AI tool to continuously monitor regulatory changes and assess vessel operations to ensure compliance with the latest local, national, and international standards.\n",
       "   - **Automated Reporting**: Generate automated compliance reports and summaries for stakeholders to reduce the operational burden.\n",
       "\n",
       "4. **Change Management and Training Program:**\n",
       "   - **User-friendly Interface**: Design the platform with an intuitive interface that minimizes resistance from crew members and management.\n",
       "   - **Training Workshops and Resources**: Provide comprehensive training sessions for crew members and management on using the platform and understanding the benefits of AI.\n",
       "\n",
       "5. **Skill Development Program:**\n",
       "   - **Upskill Personnel**: Partner with educational institutions and maritime academies to create training programs that focus on AI management, data analytics, and sustainability practices.\n",
       "\n",
       "6. **Real-Time Monitoring via Edge Computing:**\n",
       "   - **Edge Analytics**: Employ edge computing to perform real-time data analytics on-board, minimizing dependence on external connectivity during voyages. This allows for quick adjustments to fuel consumption and emissions management.\n",
       "\n",
       "7. **Continuous AI Maintenance and Updates:**\n",
       "   - **Automated Model Maintenance**: Use self-learning AI algorithms that can adapt and update automatically based on new operational conditions and performance metrics.\n",
       "\n",
       "8. **Fuel Adaptability Algorithms:**\n",
       "   - **Dynamic Optimization Algorithms**: Develop advanced optimization algorithms that incorporate real-time fuel variability data and adapt based on the current fuel type and combustion properties.\n",
       "\n",
       "9. **Predictive Analytics for Environmental Factors:**\n",
       "   - **Weather and Sea Condition Models**: Leverage machine learning models that analyze historical data to predict environmental impacts on fuel consumption and emissions, allowing operators to make informed real-time decisions.\n",
       "\n",
       "10. **Stakeholder Engagement Dashboard:**\n",
       "    - **Visualization Tools**: Create dashboards that visualize data trends, emissions savings, and financial metrics to facilitate stakeholder buy-in and transparency regarding sustainability initiatives.\n",
       "\n",
       "11. **Data Security Protocols:**\n",
       "    - **Cybersecurity Framework**: Implement a robust data security strategy that includes encryption, access controls, and regular security audits to safeguard operational data.\n",
       "\n",
       "12. **Impact Measurement Metrics:**\n",
       "    - **Performance Tracking Dashboard**: Introduce KPIs and analytics that demonstrate the tangible impact of the AI-driven initiatives on fuel consumption and emissions, allowing operators to make data-driven decisions.\n",
       "\n",
       "**Revenue Model:**\n",
       "- Subscription-based access to the IMSOP platform, with different tiers based on the number of vessels and features used.\n",
       "- Consulting services for implementation, training, and compliance reporting tailored to individual company needs.\n",
       "- Partnership opportunities with governmental organizations to share compliance data and research initiatives.\n",
       "\n",
       "**Conclusion:**\n",
       "The Integrated Maritime Sustainability Optimization Platform (IMSOP) provides a scalable and flexible solution to the maritime industry's sustainability pain points. By utilizing Agentic AI, it facilitates the smooth integration of advanced technology, transforming the way vessels optimize fuel consumption and emissions while ensuring regulatory compliance, crew engagement, and stakeholder confidence."
      ],
      "text/plain": [
       "<IPython.core.display.Markdown object>"
      ]
     },
     "metadata": {},
     "output_type": "display_data"
    }
   ],
   "source": [
    "messages = [{\n",
    "    'role':'user',\n",
    "    'content': 'Given these pain-points in the maritime industry, propose a business idea as a solution using Agentic AI.\\n' + pain_point\n",
    "}]\n",
    "\n",
    "response_3 = openai.chat.completions.create(\n",
    "    model = 'gpt-4o-mini',\n",
    "    messages = messages\n",
    ")\n",
    "\n",
    "solution = response_3.choices[0].message.content\n",
    "display(Markdown(solution))"
   ]
  },
  {
   "cell_type": "markdown",
   "metadata": {},
   "source": []
  }
 ],
 "metadata": {
  "kernelspec": {
   "display_name": ".venv",
   "language": "python",
   "name": "python3"
  },
  "language_info": {
   "codemirror_mode": {
    "name": "ipython",
    "version": 3
   },
   "file_extension": ".py",
   "mimetype": "text/x-python",
   "name": "python",
   "nbconvert_exporter": "python",
   "pygments_lexer": "ipython3",
   "version": "3.12.7"
  }
 },
 "nbformat": 4,
 "nbformat_minor": 2
}
