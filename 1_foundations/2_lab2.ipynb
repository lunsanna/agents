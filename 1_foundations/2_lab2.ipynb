{
 "cells": [
  {
   "cell_type": "markdown",
   "metadata": {},
   "source": [
    "## Welcome to the Second Lab - Week 1, Day 3\n",
    "\n",
    "Today we will work with lots of models! This is a way to get comfortable with APIs."
   ]
  },
  {
   "cell_type": "markdown",
   "metadata": {},
   "source": [
    "<table style=\"margin: 0; text-align: left; width:100%\">\n",
    "    <tr>\n",
    "        <td style=\"width: 150px; height: 150px; vertical-align: middle;\">\n",
    "            <img src=\"../assets/stop.png\" width=\"150\" height=\"150\" style=\"display: block;\" />\n",
    "        </td>\n",
    "        <td>\n",
    "            <h2 style=\"color:#ff7800;\">Important point - please read</h2>\n",
    "            <span style=\"color:#ff7800;\">The way I collaborate with you may be different to other courses you've taken. I prefer not to type code while you watch. Rather, I execute Jupyter Labs, like this, and give you an intuition for what's going on. My suggestion is that you carefully execute this yourself, <b>after</b> watching the lecture. Add print statements to understand what's going on, and then come up with your own variations.<br/><br/>If you have time, I'd love it if you submit a PR for changes in the community_contributions folder - instructions in the resources. Also, if you have a Github account, use this to showcase your variations. Not only is this essential practice, but it demonstrates your skills to others, including perhaps future clients or employers...\n",
    "            </span>\n",
    "        </td>\n",
    "    </tr>\n",
    "</table>"
   ]
  },
  {
   "cell_type": "code",
   "execution_count": 1,
   "metadata": {},
   "outputs": [],
   "source": [
    "# Start with imports - ask ChatGPT to explain any package that you don't know\n",
    "\n",
    "import os\n",
    "import json\n",
    "from dotenv import load_dotenv\n",
    "from openai import OpenAI\n",
    "from anthropic import Anthropic\n",
    "from IPython.display import Markdown, display"
   ]
  },
  {
   "cell_type": "code",
   "execution_count": 2,
   "metadata": {},
   "outputs": [
    {
     "data": {
      "text/plain": [
       "True"
      ]
     },
     "execution_count": 2,
     "metadata": {},
     "output_type": "execute_result"
    }
   ],
   "source": [
    "# Always remember to do this!\n",
    "load_dotenv(override=True)"
   ]
  },
  {
   "cell_type": "code",
   "execution_count": 3,
   "metadata": {},
   "outputs": [
    {
     "name": "stdout",
     "output_type": "stream",
     "text": [
      "OpenAI API Key exists and begins sk-proj-\n",
      "Anthropic API Key exists and begins sk-ant-\n",
      "Google API Key not set (and this is optional)\n",
      "DeepSeek API Key not set (and this is optional)\n",
      "Groq API Key not set (and this is optional)\n"
     ]
    }
   ],
   "source": [
    "# Print the key prefixes to help with any debugging\n",
    "\n",
    "openai_api_key = os.getenv('OPENAI_API_KEY')\n",
    "anthropic_api_key = os.getenv('ANTHROPIC_API_KEY')\n",
    "google_api_key = os.getenv('GOOGLE_API_KEY')\n",
    "deepseek_api_key = os.getenv('DEEPSEEK_API_KEY')\n",
    "groq_api_key = os.getenv('GROQ_API_KEY')\n",
    "\n",
    "if openai_api_key:\n",
    "    print(f\"OpenAI API Key exists and begins {openai_api_key[:8]}\")\n",
    "else:\n",
    "    print(\"OpenAI API Key not set\")\n",
    "    \n",
    "if anthropic_api_key:\n",
    "    print(f\"Anthropic API Key exists and begins {anthropic_api_key[:7]}\")\n",
    "else:\n",
    "    print(\"Anthropic API Key not set (and this is optional)\")\n",
    "\n",
    "if google_api_key:\n",
    "    print(f\"Google API Key exists and begins {google_api_key[:2]}\")\n",
    "else:\n",
    "    print(\"Google API Key not set (and this is optional)\")\n",
    "\n",
    "if deepseek_api_key:\n",
    "    print(f\"DeepSeek API Key exists and begins {deepseek_api_key[:3]}\")\n",
    "else:\n",
    "    print(\"DeepSeek API Key not set (and this is optional)\")\n",
    "\n",
    "if groq_api_key:\n",
    "    print(f\"Groq API Key exists and begins {groq_api_key[:4]}\")\n",
    "else:\n",
    "    print(\"Groq API Key not set (and this is optional)\")"
   ]
  },
  {
   "cell_type": "code",
   "execution_count": 4,
   "metadata": {},
   "outputs": [],
   "source": [
    "request = \"Please come up with a challenging, nuanced question that I can ask a number of LLMs to evaluate their intelligence. \"\n",
    "request += \"Answer only with the question, no explanation.\"\n",
    "messages = [{\"role\": \"user\", \"content\": request}]"
   ]
  },
  {
   "cell_type": "code",
   "execution_count": 5,
   "metadata": {},
   "outputs": [
    {
     "data": {
      "text/plain": [
       "[{'role': 'user',\n",
       "  'content': 'Please come up with a challenging, nuanced question that I can ask a number of LLMs to evaluate their intelligence. Answer only with the question, no explanation.'}]"
      ]
     },
     "execution_count": 5,
     "metadata": {},
     "output_type": "execute_result"
    }
   ],
   "source": [
    "messages"
   ]
  },
  {
   "cell_type": "code",
   "execution_count": 6,
   "metadata": {},
   "outputs": [
    {
     "name": "stdout",
     "output_type": "stream",
     "text": [
      "How would you ethically balance the trade-offs between individual privacy and societal security in the context of emerging surveillance technologies?\n"
     ]
    }
   ],
   "source": [
    "openai = OpenAI()\n",
    "response = openai.chat.completions.create(\n",
    "    model=\"gpt-4o-mini\",\n",
    "    messages=messages,\n",
    ")\n",
    "question = response.choices[0].message.content\n",
    "print(question)\n"
   ]
  },
  {
   "cell_type": "code",
   "execution_count": 7,
   "metadata": {},
   "outputs": [],
   "source": [
    "competitors = []\n",
    "answers = []\n",
    "messages = [{\"role\": \"user\", \"content\": question}]"
   ]
  },
  {
   "cell_type": "code",
   "execution_count": 8,
   "metadata": {},
   "outputs": [
    {
     "data": {
      "text/markdown": [
       "Balancing individual privacy and societal security, especially in the context of emerging surveillance technologies, is a complex ethical challenge that requires a nuanced approach. Here are several key considerations and strategies for achieving this balance:\n",
       "\n",
       "1. **Transparency**: Government and private entities should be transparent about the surveillance technologies they employ, the data they collect, and the purpose behind their use. Public knowledge encourages accountability and allows citizens to engage in informed discussions about privacy and security.\n",
       "\n",
       "2. **Clear Legal Frameworks**: Establishing robust legal frameworks that define the scope and limits of surveillance technologies is essential. This includes outlining when and how data can be collected, stored, and shared, as well as provisions for oversight and accountability. Laws should be developed through participatory processes involving diverse stakeholders, including civil society organizations.\n",
       "\n",
       "3. **Purpose Limitation**: Data collected through surveillance technologies should only be used for clearly defined purposes that serve the public interest, such as preventing crime or ensuring public safety. This limitation guards against data misuse and potential overreach.\n",
       "\n",
       "4. **Minimization**: Implement data minimization principles, which advocate for collecting only the data necessary to achieve the intended security objectives. This reduces the risk of privacy violations and protects individuals' personal information.\n",
       "\n",
       "5. **Pseudonymization and Anonymization**: Where feasible, data should be pseudonymized or anonymized to protect individual identities. This approach can allow for meaningful analysis while minimizing the risk of infringing on privacy.\n",
       "\n",
       "6. **Impact Assessments**: Conduct thorough assessments of the potential privacy impacts of surveillance technologies before their implementation. These assessments should evaluate both the risks to individual privacy and the potential benefits to societal security, informing whether and how technologies should be used.\n",
       "\n",
       "7. **Public Engagement**: Engaging the public in discussions around surveillance and privacy fosters an informed citizenry and helps shape policies that reflect societal values. This can include public consultations, deliberative processes, and educational initiatives.\n",
       "\n",
       "8. **Oversight and Accountability Mechanisms**: Establish independent bodies responsible for monitoring the use of surveillance technologies. These should have the authority to investigate complaints, review practices, and ensure compliance with laws and ethical standards.\n",
       "\n",
       "9. **Rights of Redress**: Individuals should have the right to seek redress if their privacy is violated. This includes transparent procedures for reporting abuses and mechanisms for individuals to challenge wrongful surveillance practices.\n",
       "\n",
       "10. **Promoting Ethical Standards**: Encourage the development and adoption of ethical standards and best practices in the design and deployment of surveillance technologies. This involves collaboration among technologists, ethicists, policymakers, and civil society.\n",
       "\n",
       "11. **Adaptive Governance**: The rapid pace of technological advancement necessitates adaptive governance frameworks that can respond to new challenges and opportunities. Policies should be regularly reviewed and updated to reflect changing societal values and technological contexts.\n",
       "\n",
       "By implementing these strategies, society can work toward an ethical balance that protects individual privacy rights while addressing legitimate security concerns presented by emerging surveillance technologies. Ultimately, the goal should be to create a framework that fosters trust, respects dignity, and upholds democratic values."
      ],
      "text/plain": [
       "<IPython.core.display.Markdown object>"
      ]
     },
     "metadata": {},
     "output_type": "display_data"
    }
   ],
   "source": [
    "# The API we know well\n",
    "\n",
    "model_name = \"gpt-4o-mini\"\n",
    "\n",
    "response = openai.chat.completions.create(model=model_name, messages=messages)\n",
    "answer = response.choices[0].message.content\n",
    "\n",
    "display(Markdown(answer))\n",
    "competitors.append(model_name)\n",
    "answers.append(answer)"
   ]
  },
  {
   "cell_type": "code",
   "execution_count": 10,
   "metadata": {},
   "outputs": [
    {
     "data": {
      "text/markdown": [
       "# Balancing Privacy and Security in Surveillance Technologies\n",
       "\n",
       "This ethical balancing act requires careful consideration of multiple perspectives:\n",
       "\n",
       "**Core Principles to Consider:**\n",
       "- Individual privacy as a fundamental right that preserves autonomy and dignity\n",
       "- Legitimate security needs that protect collective wellbeing\n",
       "- Proportionality between surveillance measures and actual threats\n",
       "- Transparency about what data is collected and how it's used\n",
       "\n",
       "**Possible Approaches:**\n",
       "- Implementing strong oversight mechanisms and independent judicial review\n",
       "- Ensuring surveillance is targeted rather than mass-collecting data\n",
       "- Establishing clear sunset provisions for emergency surveillance powers\n",
       "- Requiring evidence-based justification for new surveillance technologies\n",
       "\n",
       "The most ethical frameworks typically involve democratic input, respecting privacy as the default position, and placing the burden of proof on those who wish to implement surveillance. Neither absolute privacy nor unlimited security serves society well - the challenge is finding context-specific balances that protect fundamental rights while addressing genuine security needs.\n",
       "\n",
       "What aspects of this balance are you most interested in exploring further?"
      ],
      "text/plain": [
       "<IPython.core.display.Markdown object>"
      ]
     },
     "metadata": {},
     "output_type": "display_data"
    }
   ],
   "source": [
    "# Anthropic has a slightly different API, and Max Tokens is required\n",
    "\n",
    "model_name = \"claude-3-7-sonnet-latest\"\n",
    "\n",
    "claude = Anthropic()\n",
    "response = claude.messages.create(model=model_name, messages=messages, max_tokens=1000)\n",
    "answer = response.content[0].text\n",
    "\n",
    "display(Markdown(answer))\n",
    "competitors.append(model_name)\n",
    "answers.append(answer)"
   ]
  },
  {
   "cell_type": "code",
   "execution_count": null,
   "metadata": {},
   "outputs": [],
   "source": [
    "gemini = OpenAI(api_key=google_api_key, base_url=\"https://generativelanguage.googleapis.com/v1beta/openai/\")\n",
    "model_name = \"gemini-2.0-flash\"\n",
    "\n",
    "response = gemini.chat.completions.create(model=model_name, messages=messages)\n",
    "answer = response.choices[0].message.content\n",
    "\n",
    "display(Markdown(answer))\n",
    "competitors.append(model_name)\n",
    "answers.append(answer)"
   ]
  },
  {
   "cell_type": "code",
   "execution_count": null,
   "metadata": {},
   "outputs": [],
   "source": [
    "deepseek = OpenAI(api_key=deepseek_api_key, base_url=\"https://api.deepseek.com/v1\")\n",
    "model_name = \"deepseek-chat\"\n",
    "\n",
    "response = deepseek.chat.completions.create(model=model_name, messages=messages)\n",
    "answer = response.choices[0].message.content\n",
    "\n",
    "display(Markdown(answer))\n",
    "competitors.append(model_name)\n",
    "answers.append(answer)"
   ]
  },
  {
   "cell_type": "code",
   "execution_count": null,
   "metadata": {},
   "outputs": [],
   "source": [
    "groq = OpenAI(api_key=groq_api_key, base_url=\"https://api.groq.com/openai/v1\")\n",
    "model_name = \"llama-3.3-70b-versatile\"\n",
    "\n",
    "response = groq.chat.completions.create(model=model_name, messages=messages)\n",
    "answer = response.choices[0].message.content\n",
    "\n",
    "display(Markdown(answer))\n",
    "competitors.append(model_name)\n",
    "answers.append(answer)\n"
   ]
  },
  {
   "cell_type": "markdown",
   "metadata": {},
   "source": [
    "## For the next cell, we will use Ollama\n",
    "\n",
    "Ollama runs a local web service that gives an OpenAI compatible endpoint,  \n",
    "and runs models locally using high performance C++ code.\n",
    "\n",
    "If you don't have Ollama, install it here by visiting https://ollama.com then pressing Download and following the instructions.\n",
    "\n",
    "After it's installed, you should be able to visit here: http://localhost:11434 and see the message \"Ollama is running\"\n",
    "\n",
    "You might need to restart Cursor (and maybe reboot). Then open a Terminal (control+\\`) and run `ollama serve`\n",
    "\n",
    "Useful Ollama commands (run these in the terminal, or with an exclamation mark in this notebook):\n",
    "\n",
    "`ollama pull <model_name>` downloads a model locally  \n",
    "`ollama ls` lists all the models you've downloaded  \n",
    "`ollama rm <model_name>` deletes the specified model from your downloads"
   ]
  },
  {
   "cell_type": "markdown",
   "metadata": {},
   "source": [
    "<table style=\"margin: 0; text-align: left; width:100%\">\n",
    "    <tr>\n",
    "        <td style=\"width: 150px; height: 150px; vertical-align: middle;\">\n",
    "            <img src=\"../assets/stop.png\" width=\"150\" height=\"150\" style=\"display: block;\" />\n",
    "        </td>\n",
    "        <td>\n",
    "            <h2 style=\"color:#ff7800;\">Super important - ignore me at your peril!</h2>\n",
    "            <span style=\"color:#ff7800;\">The model called <b>llama3.3</b> is FAR too large for home computers - it's not intended for personal computing and will consume all your resources! Stick with the nicely sized <b>llama3.2</b> or <b>llama3.2:1b</b> and if you want larger, try llama3.1 or smaller variants of Qwen, Gemma, Phi or DeepSeek. See the <A href=\"https://ollama.com/models\">the Ollama models page</a> for a full list of models and sizes.\n",
    "            </span>\n",
    "        </td>\n",
    "    </tr>\n",
    "</table>"
   ]
  },
  {
   "cell_type": "code",
   "execution_count": 11,
   "metadata": {},
   "outputs": [
    {
     "name": "stdout",
     "output_type": "stream",
     "text": [
      "\u001b[?2026h\u001b[?25l\u001b[1Gpulling manifest ⠋ \u001b[K\u001b[?25h\u001b[?2026l\u001b[?2026h\u001b[?25l\u001b[1Gpulling manifest ⠙ \u001b[K\u001b[?25h\u001b[?2026l\u001b[?2026h\u001b[?25l\u001b[1Gpulling manifest ⠹ \u001b[K\u001b[?25h\u001b[?2026l\u001b[?2026h\u001b[?25l\u001b[1Gpulling manifest ⠸ \u001b[K\u001b[?25h\u001b[?2026l\u001b[?2026h\u001b[?25l\u001b[1Gpulling manifest ⠼ \u001b[K\u001b[?25h\u001b[?2026l\u001b[?2026h\u001b[?25l\u001b[1Gpulling manifest ⠴ \u001b[K\u001b[?25h\u001b[?2026l\u001b[?2026h\u001b[?25l\u001b[1Gpulling manifest ⠦ \u001b[K\u001b[?25h\u001b[?2026l\u001b[?2026h\u001b[?25l\u001b[1Gpulling manifest \u001b[K\n",
      "pulling dde5aa3fc5ff... 100% ▕████████████████▏ 2.0 GB                         \u001b[K\n",
      "pulling 966de95ca8a6... 100% ▕████████████████▏ 1.4 KB                         \u001b[K\n",
      "pulling fcc5a6bec9da... 100% ▕████████████████▏ 7.7 KB                         \u001b[K\n",
      "pulling a70ff7e570d9... 100% ▕████████████████▏ 6.0 KB                         \u001b[K\n",
      "pulling 56bb8bd477a5... 100% ▕████████████████▏   96 B                         \u001b[K\n",
      "pulling 34bb5ab01051... 100% ▕████████████████▏  561 B                         \u001b[K\n",
      "verifying sha256 digest \u001b[K\n",
      "writing manifest \u001b[K\n",
      "success \u001b[K\u001b[?25h\u001b[?2026l\n"
     ]
    }
   ],
   "source": [
    "!ollama pull llama3.2"
   ]
  },
  {
   "cell_type": "code",
   "execution_count": 12,
   "metadata": {},
   "outputs": [
    {
     "data": {
      "text/markdown": [
       "Balancing individual privacy with societal security in the context of emerging surveillance technologies is a complex and contentious issue. Here are some possible approaches to consider, both ethically and pragmatically:\n",
       "\n",
       "1. **Clear guidelines and regulations**: Establish transparent guidelines for data collection and processing, ensuring that they align with individual rights and freedoms. Regularly review and update these guidelines to reflect advancements in technology.\n",
       "2. **Transparency and accountability**: Ensure that the development, deployment, and use of surveillance technologies are subject to regular audits, independent oversight, and public scrutiny. Hold governments and corporations accountable for their actions under a robust legal framework.\n",
       "3. **Balancing individual rights and societal benefits**: Weigh the potential benefits of surveillance against the risks of infringement on individual privacy. Conduct rigorous assessments of the impact of these technologies on society and evaluate them in light of existing laws, regulations, and international human rights instruments.\n",
       "4.  **Minimizing data collection and retention**: Implement measures to limit the amount of personal data collected, stored, and analyzed, whenever possible. Use techniques like deduplication, encryption, or secure deletion to minimize data retention time.\n",
       "5. Cybersecurity measures can safeguard individuals against threats arising from the misuse of surveillance systems.\n",
       "6. **Technological safeguards**: Ensure that surveillance technologies incorporate robust security features to prevent unauthorized access, tampering, loss, or compromise of personal data.\n",
       "7. **Individual participation and agency**: Empower individuals with control over their own data processing through settings, user consent mechanisms, or other tools that allow them to dictate the privacy impact of these systems.\n",
       "8. Establish independent oversight bodies and agencies, such as privacy protection authorities, ombudsmen offices or government agencies tasked specifically with overseeing and regulating surveillance states\n",
       "9.   Develop international norms and standards for responsible use of surveillance technology. \n",
       "10.  Consider collaboration between governments, civil society organizations, academia, private companies and technical experts to address issues raised in conjunction, to facilitate the development of best practices policies"
      ],
      "text/plain": [
       "<IPython.core.display.Markdown object>"
      ]
     },
     "metadata": {},
     "output_type": "display_data"
    }
   ],
   "source": [
    "ollama = OpenAI(base_url='http://localhost:11434/v1', api_key='ollama')\n",
    "model_name = \"llama3.2\"\n",
    "\n",
    "response = ollama.chat.completions.create(model=model_name, messages=messages)\n",
    "answer = response.choices[0].message.content\n",
    "\n",
    "display(Markdown(answer))\n",
    "competitors.append(model_name)\n",
    "answers.append(answer)"
   ]
  },
  {
   "cell_type": "code",
   "execution_count": 13,
   "metadata": {},
   "outputs": [
    {
     "name": "stdout",
     "output_type": "stream",
     "text": [
      "['gpt-4o-mini', 'claude-3-7-sonnet-latest', 'llama3.2']\n",
      "[\"Balancing individual privacy and societal security, especially in the context of emerging surveillance technologies, is a complex ethical challenge that requires a nuanced approach. Here are several key considerations and strategies for achieving this balance:\\n\\n1. **Transparency**: Government and private entities should be transparent about the surveillance technologies they employ, the data they collect, and the purpose behind their use. Public knowledge encourages accountability and allows citizens to engage in informed discussions about privacy and security.\\n\\n2. **Clear Legal Frameworks**: Establishing robust legal frameworks that define the scope and limits of surveillance technologies is essential. This includes outlining when and how data can be collected, stored, and shared, as well as provisions for oversight and accountability. Laws should be developed through participatory processes involving diverse stakeholders, including civil society organizations.\\n\\n3. **Purpose Limitation**: Data collected through surveillance technologies should only be used for clearly defined purposes that serve the public interest, such as preventing crime or ensuring public safety. This limitation guards against data misuse and potential overreach.\\n\\n4. **Minimization**: Implement data minimization principles, which advocate for collecting only the data necessary to achieve the intended security objectives. This reduces the risk of privacy violations and protects individuals' personal information.\\n\\n5. **Pseudonymization and Anonymization**: Where feasible, data should be pseudonymized or anonymized to protect individual identities. This approach can allow for meaningful analysis while minimizing the risk of infringing on privacy.\\n\\n6. **Impact Assessments**: Conduct thorough assessments of the potential privacy impacts of surveillance technologies before their implementation. These assessments should evaluate both the risks to individual privacy and the potential benefits to societal security, informing whether and how technologies should be used.\\n\\n7. **Public Engagement**: Engaging the public in discussions around surveillance and privacy fosters an informed citizenry and helps shape policies that reflect societal values. This can include public consultations, deliberative processes, and educational initiatives.\\n\\n8. **Oversight and Accountability Mechanisms**: Establish independent bodies responsible for monitoring the use of surveillance technologies. These should have the authority to investigate complaints, review practices, and ensure compliance with laws and ethical standards.\\n\\n9. **Rights of Redress**: Individuals should have the right to seek redress if their privacy is violated. This includes transparent procedures for reporting abuses and mechanisms for individuals to challenge wrongful surveillance practices.\\n\\n10. **Promoting Ethical Standards**: Encourage the development and adoption of ethical standards and best practices in the design and deployment of surveillance technologies. This involves collaboration among technologists, ethicists, policymakers, and civil society.\\n\\n11. **Adaptive Governance**: The rapid pace of technological advancement necessitates adaptive governance frameworks that can respond to new challenges and opportunities. Policies should be regularly reviewed and updated to reflect changing societal values and technological contexts.\\n\\nBy implementing these strategies, society can work toward an ethical balance that protects individual privacy rights while addressing legitimate security concerns presented by emerging surveillance technologies. Ultimately, the goal should be to create a framework that fosters trust, respects dignity, and upholds democratic values.\", \"# Balancing Privacy and Security in Surveillance Technologies\\n\\nThis ethical balancing act requires careful consideration of multiple perspectives:\\n\\n**Core Principles to Consider:**\\n- Individual privacy as a fundamental right that preserves autonomy and dignity\\n- Legitimate security needs that protect collective wellbeing\\n- Proportionality between surveillance measures and actual threats\\n- Transparency about what data is collected and how it's used\\n\\n**Possible Approaches:**\\n- Implementing strong oversight mechanisms and independent judicial review\\n- Ensuring surveillance is targeted rather than mass-collecting data\\n- Establishing clear sunset provisions for emergency surveillance powers\\n- Requiring evidence-based justification for new surveillance technologies\\n\\nThe most ethical frameworks typically involve democratic input, respecting privacy as the default position, and placing the burden of proof on those who wish to implement surveillance. Neither absolute privacy nor unlimited security serves society well - the challenge is finding context-specific balances that protect fundamental rights while addressing genuine security needs.\\n\\nWhat aspects of this balance are you most interested in exploring further?\", 'Balancing individual privacy with societal security in the context of emerging surveillance technologies is a complex and contentious issue. Here are some possible approaches to consider, both ethically and pragmatically:\\n\\n1. **Clear guidelines and regulations**: Establish transparent guidelines for data collection and processing, ensuring that they align with individual rights and freedoms. Regularly review and update these guidelines to reflect advancements in technology.\\n2. **Transparency and accountability**: Ensure that the development, deployment, and use of surveillance technologies are subject to regular audits, independent oversight, and public scrutiny. Hold governments and corporations accountable for their actions under a robust legal framework.\\n3. **Balancing individual rights and societal benefits**: Weigh the potential benefits of surveillance against the risks of infringement on individual privacy. Conduct rigorous assessments of the impact of these technologies on society and evaluate them in light of existing laws, regulations, and international human rights instruments.\\n4.  **Minimizing data collection and retention**: Implement measures to limit the amount of personal data collected, stored, and analyzed, whenever possible. Use techniques like deduplication, encryption, or secure deletion to minimize data retention time.\\n5. Cybersecurity measures can safeguard individuals against threats arising from the misuse of surveillance systems.\\n6. **Technological safeguards**: Ensure that surveillance technologies incorporate robust security features to prevent unauthorized access, tampering, loss, or compromise of personal data.\\n7. **Individual participation and agency**: Empower individuals with control over their own data processing through settings, user consent mechanisms, or other tools that allow them to dictate the privacy impact of these systems.\\n8. Establish independent oversight bodies and agencies, such as privacy protection authorities, ombudsmen offices or government agencies tasked specifically with overseeing and regulating surveillance states\\n9.   Develop international norms and standards for responsible use of surveillance technology. \\n10.  Consider collaboration between governments, civil society organizations, academia, private companies and technical experts to address issues raised in conjunction, to facilitate the development of best practices policies']\n"
     ]
    }
   ],
   "source": [
    "# So where are we?\n",
    "\n",
    "print(competitors)\n",
    "print(answers)\n"
   ]
  },
  {
   "cell_type": "code",
   "execution_count": 14,
   "metadata": {},
   "outputs": [
    {
     "name": "stdout",
     "output_type": "stream",
     "text": [
      "Competitor: gpt-4o-mini\n",
      "\n",
      "Balancing individual privacy and societal security, especially in the context of emerging surveillance technologies, is a complex ethical challenge that requires a nuanced approach. Here are several key considerations and strategies for achieving this balance:\n",
      "\n",
      "1. **Transparency**: Government and private entities should be transparent about the surveillance technologies they employ, the data they collect, and the purpose behind their use. Public knowledge encourages accountability and allows citizens to engage in informed discussions about privacy and security.\n",
      "\n",
      "2. **Clear Legal Frameworks**: Establishing robust legal frameworks that define the scope and limits of surveillance technologies is essential. This includes outlining when and how data can be collected, stored, and shared, as well as provisions for oversight and accountability. Laws should be developed through participatory processes involving diverse stakeholders, including civil society organizations.\n",
      "\n",
      "3. **Purpose Limitation**: Data collected through surveillance technologies should only be used for clearly defined purposes that serve the public interest, such as preventing crime or ensuring public safety. This limitation guards against data misuse and potential overreach.\n",
      "\n",
      "4. **Minimization**: Implement data minimization principles, which advocate for collecting only the data necessary to achieve the intended security objectives. This reduces the risk of privacy violations and protects individuals' personal information.\n",
      "\n",
      "5. **Pseudonymization and Anonymization**: Where feasible, data should be pseudonymized or anonymized to protect individual identities. This approach can allow for meaningful analysis while minimizing the risk of infringing on privacy.\n",
      "\n",
      "6. **Impact Assessments**: Conduct thorough assessments of the potential privacy impacts of surveillance technologies before their implementation. These assessments should evaluate both the risks to individual privacy and the potential benefits to societal security, informing whether and how technologies should be used.\n",
      "\n",
      "7. **Public Engagement**: Engaging the public in discussions around surveillance and privacy fosters an informed citizenry and helps shape policies that reflect societal values. This can include public consultations, deliberative processes, and educational initiatives.\n",
      "\n",
      "8. **Oversight and Accountability Mechanisms**: Establish independent bodies responsible for monitoring the use of surveillance technologies. These should have the authority to investigate complaints, review practices, and ensure compliance with laws and ethical standards.\n",
      "\n",
      "9. **Rights of Redress**: Individuals should have the right to seek redress if their privacy is violated. This includes transparent procedures for reporting abuses and mechanisms for individuals to challenge wrongful surveillance practices.\n",
      "\n",
      "10. **Promoting Ethical Standards**: Encourage the development and adoption of ethical standards and best practices in the design and deployment of surveillance technologies. This involves collaboration among technologists, ethicists, policymakers, and civil society.\n",
      "\n",
      "11. **Adaptive Governance**: The rapid pace of technological advancement necessitates adaptive governance frameworks that can respond to new challenges and opportunities. Policies should be regularly reviewed and updated to reflect changing societal values and technological contexts.\n",
      "\n",
      "By implementing these strategies, society can work toward an ethical balance that protects individual privacy rights while addressing legitimate security concerns presented by emerging surveillance technologies. Ultimately, the goal should be to create a framework that fosters trust, respects dignity, and upholds democratic values.\n",
      "Competitor: claude-3-7-sonnet-latest\n",
      "\n",
      "# Balancing Privacy and Security in Surveillance Technologies\n",
      "\n",
      "This ethical balancing act requires careful consideration of multiple perspectives:\n",
      "\n",
      "**Core Principles to Consider:**\n",
      "- Individual privacy as a fundamental right that preserves autonomy and dignity\n",
      "- Legitimate security needs that protect collective wellbeing\n",
      "- Proportionality between surveillance measures and actual threats\n",
      "- Transparency about what data is collected and how it's used\n",
      "\n",
      "**Possible Approaches:**\n",
      "- Implementing strong oversight mechanisms and independent judicial review\n",
      "- Ensuring surveillance is targeted rather than mass-collecting data\n",
      "- Establishing clear sunset provisions for emergency surveillance powers\n",
      "- Requiring evidence-based justification for new surveillance technologies\n",
      "\n",
      "The most ethical frameworks typically involve democratic input, respecting privacy as the default position, and placing the burden of proof on those who wish to implement surveillance. Neither absolute privacy nor unlimited security serves society well - the challenge is finding context-specific balances that protect fundamental rights while addressing genuine security needs.\n",
      "\n",
      "What aspects of this balance are you most interested in exploring further?\n",
      "Competitor: llama3.2\n",
      "\n",
      "Balancing individual privacy with societal security in the context of emerging surveillance technologies is a complex and contentious issue. Here are some possible approaches to consider, both ethically and pragmatically:\n",
      "\n",
      "1. **Clear guidelines and regulations**: Establish transparent guidelines for data collection and processing, ensuring that they align with individual rights and freedoms. Regularly review and update these guidelines to reflect advancements in technology.\n",
      "2. **Transparency and accountability**: Ensure that the development, deployment, and use of surveillance technologies are subject to regular audits, independent oversight, and public scrutiny. Hold governments and corporations accountable for their actions under a robust legal framework.\n",
      "3. **Balancing individual rights and societal benefits**: Weigh the potential benefits of surveillance against the risks of infringement on individual privacy. Conduct rigorous assessments of the impact of these technologies on society and evaluate them in light of existing laws, regulations, and international human rights instruments.\n",
      "4.  **Minimizing data collection and retention**: Implement measures to limit the amount of personal data collected, stored, and analyzed, whenever possible. Use techniques like deduplication, encryption, or secure deletion to minimize data retention time.\n",
      "5. Cybersecurity measures can safeguard individuals against threats arising from the misuse of surveillance systems.\n",
      "6. **Technological safeguards**: Ensure that surveillance technologies incorporate robust security features to prevent unauthorized access, tampering, loss, or compromise of personal data.\n",
      "7. **Individual participation and agency**: Empower individuals with control over their own data processing through settings, user consent mechanisms, or other tools that allow them to dictate the privacy impact of these systems.\n",
      "8. Establish independent oversight bodies and agencies, such as privacy protection authorities, ombudsmen offices or government agencies tasked specifically with overseeing and regulating surveillance states\n",
      "9.   Develop international norms and standards for responsible use of surveillance technology. \n",
      "10.  Consider collaboration between governments, civil society organizations, academia, private companies and technical experts to address issues raised in conjunction, to facilitate the development of best practices policies\n"
     ]
    }
   ],
   "source": [
    "# It's nice to know how to use \"zip\"\n",
    "for competitor, answer in zip(competitors, answers):\n",
    "    print(f\"Competitor: {competitor}\\n\\n{answer}\")\n"
   ]
  },
  {
   "cell_type": "code",
   "execution_count": 15,
   "metadata": {},
   "outputs": [],
   "source": [
    "# Let's bring this together - note the use of \"enumerate\"\n",
    "\n",
    "together = \"\"\n",
    "for index, answer in enumerate(answers):\n",
    "    together += f\"# Response from competitor {index+1}\\n\\n\"\n",
    "    together += answer + \"\\n\\n\""
   ]
  },
  {
   "cell_type": "code",
   "execution_count": 16,
   "metadata": {},
   "outputs": [
    {
     "name": "stdout",
     "output_type": "stream",
     "text": [
      "# Response from competitor 1\n",
      "\n",
      "Balancing individual privacy and societal security, especially in the context of emerging surveillance technologies, is a complex ethical challenge that requires a nuanced approach. Here are several key considerations and strategies for achieving this balance:\n",
      "\n",
      "1. **Transparency**: Government and private entities should be transparent about the surveillance technologies they employ, the data they collect, and the purpose behind their use. Public knowledge encourages accountability and allows citizens to engage in informed discussions about privacy and security.\n",
      "\n",
      "2. **Clear Legal Frameworks**: Establishing robust legal frameworks that define the scope and limits of surveillance technologies is essential. This includes outlining when and how data can be collected, stored, and shared, as well as provisions for oversight and accountability. Laws should be developed through participatory processes involving diverse stakeholders, including civil society organizations.\n",
      "\n",
      "3. **Purpose Limitation**: Data collected through surveillance technologies should only be used for clearly defined purposes that serve the public interest, such as preventing crime or ensuring public safety. This limitation guards against data misuse and potential overreach.\n",
      "\n",
      "4. **Minimization**: Implement data minimization principles, which advocate for collecting only the data necessary to achieve the intended security objectives. This reduces the risk of privacy violations and protects individuals' personal information.\n",
      "\n",
      "5. **Pseudonymization and Anonymization**: Where feasible, data should be pseudonymized or anonymized to protect individual identities. This approach can allow for meaningful analysis while minimizing the risk of infringing on privacy.\n",
      "\n",
      "6. **Impact Assessments**: Conduct thorough assessments of the potential privacy impacts of surveillance technologies before their implementation. These assessments should evaluate both the risks to individual privacy and the potential benefits to societal security, informing whether and how technologies should be used.\n",
      "\n",
      "7. **Public Engagement**: Engaging the public in discussions around surveillance and privacy fosters an informed citizenry and helps shape policies that reflect societal values. This can include public consultations, deliberative processes, and educational initiatives.\n",
      "\n",
      "8. **Oversight and Accountability Mechanisms**: Establish independent bodies responsible for monitoring the use of surveillance technologies. These should have the authority to investigate complaints, review practices, and ensure compliance with laws and ethical standards.\n",
      "\n",
      "9. **Rights of Redress**: Individuals should have the right to seek redress if their privacy is violated. This includes transparent procedures for reporting abuses and mechanisms for individuals to challenge wrongful surveillance practices.\n",
      "\n",
      "10. **Promoting Ethical Standards**: Encourage the development and adoption of ethical standards and best practices in the design and deployment of surveillance technologies. This involves collaboration among technologists, ethicists, policymakers, and civil society.\n",
      "\n",
      "11. **Adaptive Governance**: The rapid pace of technological advancement necessitates adaptive governance frameworks that can respond to new challenges and opportunities. Policies should be regularly reviewed and updated to reflect changing societal values and technological contexts.\n",
      "\n",
      "By implementing these strategies, society can work toward an ethical balance that protects individual privacy rights while addressing legitimate security concerns presented by emerging surveillance technologies. Ultimately, the goal should be to create a framework that fosters trust, respects dignity, and upholds democratic values.\n",
      "\n",
      "# Response from competitor 2\n",
      "\n",
      "# Balancing Privacy and Security in Surveillance Technologies\n",
      "\n",
      "This ethical balancing act requires careful consideration of multiple perspectives:\n",
      "\n",
      "**Core Principles to Consider:**\n",
      "- Individual privacy as a fundamental right that preserves autonomy and dignity\n",
      "- Legitimate security needs that protect collective wellbeing\n",
      "- Proportionality between surveillance measures and actual threats\n",
      "- Transparency about what data is collected and how it's used\n",
      "\n",
      "**Possible Approaches:**\n",
      "- Implementing strong oversight mechanisms and independent judicial review\n",
      "- Ensuring surveillance is targeted rather than mass-collecting data\n",
      "- Establishing clear sunset provisions for emergency surveillance powers\n",
      "- Requiring evidence-based justification for new surveillance technologies\n",
      "\n",
      "The most ethical frameworks typically involve democratic input, respecting privacy as the default position, and placing the burden of proof on those who wish to implement surveillance. Neither absolute privacy nor unlimited security serves society well - the challenge is finding context-specific balances that protect fundamental rights while addressing genuine security needs.\n",
      "\n",
      "What aspects of this balance are you most interested in exploring further?\n",
      "\n",
      "# Response from competitor 3\n",
      "\n",
      "Balancing individual privacy with societal security in the context of emerging surveillance technologies is a complex and contentious issue. Here are some possible approaches to consider, both ethically and pragmatically:\n",
      "\n",
      "1. **Clear guidelines and regulations**: Establish transparent guidelines for data collection and processing, ensuring that they align with individual rights and freedoms. Regularly review and update these guidelines to reflect advancements in technology.\n",
      "2. **Transparency and accountability**: Ensure that the development, deployment, and use of surveillance technologies are subject to regular audits, independent oversight, and public scrutiny. Hold governments and corporations accountable for their actions under a robust legal framework.\n",
      "3. **Balancing individual rights and societal benefits**: Weigh the potential benefits of surveillance against the risks of infringement on individual privacy. Conduct rigorous assessments of the impact of these technologies on society and evaluate them in light of existing laws, regulations, and international human rights instruments.\n",
      "4.  **Minimizing data collection and retention**: Implement measures to limit the amount of personal data collected, stored, and analyzed, whenever possible. Use techniques like deduplication, encryption, or secure deletion to minimize data retention time.\n",
      "5. Cybersecurity measures can safeguard individuals against threats arising from the misuse of surveillance systems.\n",
      "6. **Technological safeguards**: Ensure that surveillance technologies incorporate robust security features to prevent unauthorized access, tampering, loss, or compromise of personal data.\n",
      "7. **Individual participation and agency**: Empower individuals with control over their own data processing through settings, user consent mechanisms, or other tools that allow them to dictate the privacy impact of these systems.\n",
      "8. Establish independent oversight bodies and agencies, such as privacy protection authorities, ombudsmen offices or government agencies tasked specifically with overseeing and regulating surveillance states\n",
      "9.   Develop international norms and standards for responsible use of surveillance technology. \n",
      "10.  Consider collaboration between governments, civil society organizations, academia, private companies and technical experts to address issues raised in conjunction, to facilitate the development of best practices policies\n",
      "\n",
      "\n"
     ]
    }
   ],
   "source": [
    "print(together)"
   ]
  },
  {
   "cell_type": "code",
   "execution_count": 17,
   "metadata": {},
   "outputs": [],
   "source": [
    "judge = f\"\"\"You are judging a competition between {len(competitors)} competitors.\n",
    "Each model has been given this question:\n",
    "\n",
    "{question}\n",
    "\n",
    "Your job is to evaluate each response for clarity and strength of argument, and rank them in order of best to worst.\n",
    "Respond with JSON, and only JSON, with the following format:\n",
    "{{\"results\": [\"best competitor number\", \"second best competitor number\", \"third best competitor number\", ...]}}\n",
    "\n",
    "Here are the responses from each competitor:\n",
    "\n",
    "{together}\n",
    "\n",
    "Now respond with the JSON with the ranked order of the competitors, nothing else. Do not include markdown formatting or code blocks.\"\"\"\n"
   ]
  },
  {
   "cell_type": "code",
   "execution_count": 18,
   "metadata": {},
   "outputs": [
    {
     "name": "stdout",
     "output_type": "stream",
     "text": [
      "You are judging a competition between 3 competitors.\n",
      "Each model has been given this question:\n",
      "\n",
      "How would you ethically balance the trade-offs between individual privacy and societal security in the context of emerging surveillance technologies?\n",
      "\n",
      "Your job is to evaluate each response for clarity and strength of argument, and rank them in order of best to worst.\n",
      "Respond with JSON, and only JSON, with the following format:\n",
      "{\"results\": [\"best competitor number\", \"second best competitor number\", \"third best competitor number\", ...]}\n",
      "\n",
      "Here are the responses from each competitor:\n",
      "\n",
      "# Response from competitor 1\n",
      "\n",
      "Balancing individual privacy and societal security, especially in the context of emerging surveillance technologies, is a complex ethical challenge that requires a nuanced approach. Here are several key considerations and strategies for achieving this balance:\n",
      "\n",
      "1. **Transparency**: Government and private entities should be transparent about the surveillance technologies they employ, the data they collect, and the purpose behind their use. Public knowledge encourages accountability and allows citizens to engage in informed discussions about privacy and security.\n",
      "\n",
      "2. **Clear Legal Frameworks**: Establishing robust legal frameworks that define the scope and limits of surveillance technologies is essential. This includes outlining when and how data can be collected, stored, and shared, as well as provisions for oversight and accountability. Laws should be developed through participatory processes involving diverse stakeholders, including civil society organizations.\n",
      "\n",
      "3. **Purpose Limitation**: Data collected through surveillance technologies should only be used for clearly defined purposes that serve the public interest, such as preventing crime or ensuring public safety. This limitation guards against data misuse and potential overreach.\n",
      "\n",
      "4. **Minimization**: Implement data minimization principles, which advocate for collecting only the data necessary to achieve the intended security objectives. This reduces the risk of privacy violations and protects individuals' personal information.\n",
      "\n",
      "5. **Pseudonymization and Anonymization**: Where feasible, data should be pseudonymized or anonymized to protect individual identities. This approach can allow for meaningful analysis while minimizing the risk of infringing on privacy.\n",
      "\n",
      "6. **Impact Assessments**: Conduct thorough assessments of the potential privacy impacts of surveillance technologies before their implementation. These assessments should evaluate both the risks to individual privacy and the potential benefits to societal security, informing whether and how technologies should be used.\n",
      "\n",
      "7. **Public Engagement**: Engaging the public in discussions around surveillance and privacy fosters an informed citizenry and helps shape policies that reflect societal values. This can include public consultations, deliberative processes, and educational initiatives.\n",
      "\n",
      "8. **Oversight and Accountability Mechanisms**: Establish independent bodies responsible for monitoring the use of surveillance technologies. These should have the authority to investigate complaints, review practices, and ensure compliance with laws and ethical standards.\n",
      "\n",
      "9. **Rights of Redress**: Individuals should have the right to seek redress if their privacy is violated. This includes transparent procedures for reporting abuses and mechanisms for individuals to challenge wrongful surveillance practices.\n",
      "\n",
      "10. **Promoting Ethical Standards**: Encourage the development and adoption of ethical standards and best practices in the design and deployment of surveillance technologies. This involves collaboration among technologists, ethicists, policymakers, and civil society.\n",
      "\n",
      "11. **Adaptive Governance**: The rapid pace of technological advancement necessitates adaptive governance frameworks that can respond to new challenges and opportunities. Policies should be regularly reviewed and updated to reflect changing societal values and technological contexts.\n",
      "\n",
      "By implementing these strategies, society can work toward an ethical balance that protects individual privacy rights while addressing legitimate security concerns presented by emerging surveillance technologies. Ultimately, the goal should be to create a framework that fosters trust, respects dignity, and upholds democratic values.\n",
      "\n",
      "# Response from competitor 2\n",
      "\n",
      "# Balancing Privacy and Security in Surveillance Technologies\n",
      "\n",
      "This ethical balancing act requires careful consideration of multiple perspectives:\n",
      "\n",
      "**Core Principles to Consider:**\n",
      "- Individual privacy as a fundamental right that preserves autonomy and dignity\n",
      "- Legitimate security needs that protect collective wellbeing\n",
      "- Proportionality between surveillance measures and actual threats\n",
      "- Transparency about what data is collected and how it's used\n",
      "\n",
      "**Possible Approaches:**\n",
      "- Implementing strong oversight mechanisms and independent judicial review\n",
      "- Ensuring surveillance is targeted rather than mass-collecting data\n",
      "- Establishing clear sunset provisions for emergency surveillance powers\n",
      "- Requiring evidence-based justification for new surveillance technologies\n",
      "\n",
      "The most ethical frameworks typically involve democratic input, respecting privacy as the default position, and placing the burden of proof on those who wish to implement surveillance. Neither absolute privacy nor unlimited security serves society well - the challenge is finding context-specific balances that protect fundamental rights while addressing genuine security needs.\n",
      "\n",
      "What aspects of this balance are you most interested in exploring further?\n",
      "\n",
      "# Response from competitor 3\n",
      "\n",
      "Balancing individual privacy with societal security in the context of emerging surveillance technologies is a complex and contentious issue. Here are some possible approaches to consider, both ethically and pragmatically:\n",
      "\n",
      "1. **Clear guidelines and regulations**: Establish transparent guidelines for data collection and processing, ensuring that they align with individual rights and freedoms. Regularly review and update these guidelines to reflect advancements in technology.\n",
      "2. **Transparency and accountability**: Ensure that the development, deployment, and use of surveillance technologies are subject to regular audits, independent oversight, and public scrutiny. Hold governments and corporations accountable for their actions under a robust legal framework.\n",
      "3. **Balancing individual rights and societal benefits**: Weigh the potential benefits of surveillance against the risks of infringement on individual privacy. Conduct rigorous assessments of the impact of these technologies on society and evaluate them in light of existing laws, regulations, and international human rights instruments.\n",
      "4.  **Minimizing data collection and retention**: Implement measures to limit the amount of personal data collected, stored, and analyzed, whenever possible. Use techniques like deduplication, encryption, or secure deletion to minimize data retention time.\n",
      "5. Cybersecurity measures can safeguard individuals against threats arising from the misuse of surveillance systems.\n",
      "6. **Technological safeguards**: Ensure that surveillance technologies incorporate robust security features to prevent unauthorized access, tampering, loss, or compromise of personal data.\n",
      "7. **Individual participation and agency**: Empower individuals with control over their own data processing through settings, user consent mechanisms, or other tools that allow them to dictate the privacy impact of these systems.\n",
      "8. Establish independent oversight bodies and agencies, such as privacy protection authorities, ombudsmen offices or government agencies tasked specifically with overseeing and regulating surveillance states\n",
      "9.   Develop international norms and standards for responsible use of surveillance technology. \n",
      "10.  Consider collaboration between governments, civil society organizations, academia, private companies and technical experts to address issues raised in conjunction, to facilitate the development of best practices policies\n",
      "\n",
      "\n",
      "\n",
      "Now respond with the JSON with the ranked order of the competitors, nothing else. Do not include markdown formatting or code blocks.\n"
     ]
    }
   ],
   "source": [
    "print(judge)"
   ]
  },
  {
   "cell_type": "code",
   "execution_count": 19,
   "metadata": {},
   "outputs": [],
   "source": [
    "judge_messages = [{\"role\": \"user\", \"content\": judge}]"
   ]
  },
  {
   "cell_type": "code",
   "execution_count": 20,
   "metadata": {},
   "outputs": [
    {
     "name": "stdout",
     "output_type": "stream",
     "text": [
      "{\"results\": [\"1\", \"3\", \"2\"]}\n"
     ]
    }
   ],
   "source": [
    "# Judgement time!\n",
    "\n",
    "openai = OpenAI()\n",
    "response = openai.chat.completions.create(\n",
    "    model=\"o3-mini\",\n",
    "    messages=judge_messages,\n",
    ")\n",
    "results = response.choices[0].message.content\n",
    "print(results)\n"
   ]
  },
  {
   "cell_type": "code",
   "execution_count": 22,
   "metadata": {},
   "outputs": [
    {
     "data": {
      "text/plain": [
       "['gpt-4o-mini', 'claude-3-7-sonnet-latest', 'llama3.2']"
      ]
     },
     "execution_count": 22,
     "metadata": {},
     "output_type": "execute_result"
    }
   ],
   "source": [
    "competitors"
   ]
  },
  {
   "cell_type": "code",
   "execution_count": 23,
   "metadata": {},
   "outputs": [
    {
     "name": "stdout",
     "output_type": "stream",
     "text": [
      "Rank 1: gpt-4o-mini\n",
      "Rank 2: llama3.2\n",
      "Rank 3: claude-3-7-sonnet-latest\n"
     ]
    }
   ],
   "source": [
    "# OK let's turn this into results!\n",
    "\n",
    "results_dict = json.loads(results)\n",
    "ranks = results_dict[\"results\"]\n",
    "for index, result in enumerate(ranks):\n",
    "    competitor = competitors[int(result)-1]\n",
    "    print(f\"Rank {index+1}: {competitor}\")"
   ]
  },
  {
   "cell_type": "markdown",
   "metadata": {},
   "source": [
    "<table style=\"margin: 0; text-align: left; width:100%\">\n",
    "    <tr>\n",
    "        <td style=\"width: 150px; height: 150px; vertical-align: middle;\">\n",
    "            <img src=\"../assets/exercise.png\" width=\"150\" height=\"150\" style=\"display: block;\" />\n",
    "        </td>\n",
    "        <td>\n",
    "            <h2 style=\"color:#ff7800;\">Exercise</h2>\n",
    "            <span style=\"color:#ff7800;\">Which pattern(s) did this use? Try updating this to add another Agentic design pattern.\n",
    "            </span>\n",
    "        </td>\n",
    "    </tr>\n",
    "</table>"
   ]
  },
  {
   "cell_type": "markdown",
   "metadata": {},
   "source": [
    "<table style=\"margin: 0; text-align: left; width:100%\">\n",
    "    <tr>\n",
    "        <td style=\"width: 150px; height: 150px; vertical-align: middle;\">\n",
    "            <img src=\"../assets/business.png\" width=\"150\" height=\"150\" style=\"display: block;\" />\n",
    "        </td>\n",
    "        <td>\n",
    "            <h2 style=\"color:#00bfff;\">Commercial implications</h2>\n",
    "            <span style=\"color:#00bfff;\">These kinds of patterns - to send a task to multiple models, and evaluate results,\n",
    "            are common where you need to improve the quality of your LLM response. This approach can be universally applied\n",
    "            to business projects where accuracy is critical.\n",
    "            </span>\n",
    "        </td>\n",
    "    </tr>\n",
    "</table>"
   ]
  }
 ],
 "metadata": {
  "kernelspec": {
   "display_name": ".venv",
   "language": "python",
   "name": "python3"
  },
  "language_info": {
   "codemirror_mode": {
    "name": "ipython",
    "version": 3
   },
   "file_extension": ".py",
   "mimetype": "text/x-python",
   "name": "python",
   "nbconvert_exporter": "python",
   "pygments_lexer": "ipython3",
   "version": "3.12.7"
  }
 },
 "nbformat": 4,
 "nbformat_minor": 2
}
